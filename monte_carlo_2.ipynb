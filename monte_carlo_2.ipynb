{
 "cells": [
  {
   "cell_type": "markdown",
   "metadata": {},
   "source": [
    "Para muestrear la trayectoria del fotón usamos el método PDF, despejando  de la función de probabilidad dada por la ley de Beer tenemos que: $$x=\\frac{ln(\\xi)}{\\mu_t}$$\n",
    "\n",
    "donde $\\mu_t=\\mu_a+\\mu_s$, $\\mu_a$ y $\\mu_s$  son los coeficientes de absorción  y scattering del medio y $\\xi $ es un número aleatorio.\n",
    "\n",
    "Si el fotón es dispersado, lo redirigiremos con la función de Henyey Greenstein, esta función toma un paraámetro usualmente denotado como $g$, si $g=1$ el fotón es dispersado en la dirección original, si $g=0$ significa que el medio es isotrópico y puede ser dispersado en cualquier dirección. Valores intermedios significan que el fotón puede ser dispersado en un cono de direcciones.\n",
    "Usamos la siguiente fórmula:\n",
    " $$cos(\\theta) = \\left \\{ \\begin{matrix} 1-2 \\xi  & \\mbox{si } \\mbox{ g=0} \\\\ \\frac{1}{2g}(1+g^2)(\\frac{1-g^2}{1-g+2g \\xi})^2 & \\mbox{si }\\mbox{0<g<1}\\end{matrix}\\right.  $$\n",
    "\n",
    "\n",
    "\n",
    "Para rotar el fotón usamos la siguiente transformación:\n",
    "\n",
    "$$v_x'=v_x \\ cos\\theta+ \\frac{sen \\theta  \\ (v_x v_z \\ cos\\phi-v_y \\ sen\\phi)}{\\sqrt{1-v_z^2}}$$\n",
    " \n",
    "$$v_y'=v_y \\cos\\theta +\\frac{sen \\theta  \\ (v_y v_z \\ cos\\phi+ v_x \\ sen\\phi)}{\\sqrt{1-v_z^2}}$$\n",
    "\n",
    "$$v_z'=v_z \\ cos\\theta -\\sqrt{1-v_z^2} \\ sen\\theta \\ cos\\phi$$"
   ]
  },
  {
   "cell_type": "markdown",
   "metadata": {},
   "source": [
    "Primero hacemos la función de  Henyey Greenstein:"
   ]
  },
  {
   "cell_type": "code",
   "execution_count": 21,
   "metadata": {
    "collapsed": false
   },
   "outputs": [
    {
     "data": {
      "text/plain": [
       "cosθ (generic function with 1 method)"
      ]
     },
     "execution_count": 21,
     "metadata": {},
     "output_type": "execute_result"
    }
   ],
   "source": [
    "function cosθ(g)\n",
    "    if g==0\n",
    "        1-2*rand()\n",
    "    else\n",
    "        1/(2*g)*(1+g^2)*(1 - g^2) / (1-g+2*g*rand())\n",
    "    end\n",
    "end"
   ]
  },
  {
   "cell_type": "code",
   "execution_count": 22,
   "metadata": {
    "collapsed": false
   },
   "outputs": [
    {
     "data": {
      "text/plain": [
       "0.9178236621263588"
      ]
     },
     "execution_count": 22,
     "metadata": {},
     "output_type": "execute_result"
    }
   ],
   "source": [
    "cosθ(.7)"
   ]
  },
  {
   "cell_type": "code",
   "execution_count": 31,
   "metadata": {
    "collapsed": false
   },
   "outputs": [
    {
     "data": {
      "text/plain": [
       "rotacion (generic function with 1 method)"
      ]
     },
     "execution_count": 31,
     "metadata": {},
     "output_type": "execute_result"
    }
   ],
   "source": [
    "function rotacion(g,vx,vy,vz)\n",
    "    ϕ=rand() \n",
    "    cos_θ=cosθ(g)\n",
    "    senθ = sqrt(abs(1.0 - cos_θ^2)); \n",
    "    \n",
    "    \n",
    "   \n",
    "    if vz == 1.0\n",
    "        vx = senθ * cos(ϕ); #vx,vy,vz son los cosenos directores\n",
    "            vy = senθ * sin(ϕ); \n",
    "        vz = cos_θ      \n",
    "    \n",
    "    \n",
    "   elseif vz == -1.0\n",
    "        vx = senθ * cos(ϕ); \n",
    "        vy = -senθ * sen(ϕ); \n",
    "        vz = -cos_θ; \n",
    "     \n",
    "   else  \n",
    "        denom = sqrt(abs(1.0 -vz^2)); \n",
    "        \n",
    "        ux = senθ*vx*(vz*cos(ϕ) - vy * sin(ϕ) )/denom +vx*cos_θ\n",
    "        uy = senθ*vy*(vz*cos(ϕ) +vx * sin(ϕ) )/denom +vy*cos_θ\n",
    "        uz = -denom* senθ * cos(ϕ) + vz* cos_θ; \n",
    "         \n",
    "        \n",
    "    end\n",
    "\n",
    "\n",
    "    vx,vy,vz\n",
    "end"
   ]
  },
  {
   "cell_type": "code",
   "execution_count": 46,
   "metadata": {
    "collapsed": false
   },
   "outputs": [
    {
     "data": {
      "text/plain": [
       "(0.894101718767718,0.31696240328440145,0.3164126283838697)"
      ]
     },
     "execution_count": 46,
     "metadata": {},
     "output_type": "execute_result"
    }
   ],
   "source": [
    "rotacion(.75,2,3,1)"
   ]
  },
  {
   "cell_type": "code",
   "execution_count": 51,
   "metadata": {
    "collapsed": false
   },
   "outputs": [
    {
     "data": {
      "text/plain": [
       "mc (generic function with 3 methods)"
      ]
     },
     "execution_count": 51,
     "metadata": {},
     "output_type": "execute_result"
    }
   ],
   "source": [
    "function mc(μ_a,μ_s,g,photons,d)\n",
    "μ_t=μ_a+μ_s\n",
    "    \n",
    "dw=μ_a/μ_t #albedo\n",
    "    Rd=0; Tt=0\n",
    "    \n",
    "\n",
    "x = 0.0;\n",
    "y = 0.0;\n",
    "z = 0;\n",
    "w=1\n",
    "    for i in 1:photons\n",
    "i+=1\n",
    "\n",
    "x = 0.0;\n",
    "y = 0.0;\n",
    "z = 0; \n",
    "\n",
    "        \n",
    "w = 1.0;\n",
    "  \n",
    "μ_t=μ_a+μ_s\n",
    "    \n",
    "    vx=0\n",
    "    vy=0\n",
    "    vz=1\n",
    "        \n",
    "        \n",
    "       while true #infinito \n",
    "        t = (-log((rand()+.0000000001)))/μ_t; \n",
    "\n",
    "            d_Boundary = 0; #la distancia a la frontera va a depender de la posición en z del fotón\n",
    "            \n",
    "            if vz > 0\n",
    "            \n",
    "            d_Boundary = (d - z)/vz; \n",
    "            \n",
    "            elseif vz < 0 \n",
    "                d_Boundary = -z/vz; \n",
    "                \n",
    "                end #primero le da valor a la distancia a la  frontera \n",
    "            \n",
    "            if t > d_Boundary # checa si el camino libre medio es mayor que la distancia a a frontera\n",
    "                if vz > 0 #si la dirección es mayor a cero se transmite\n",
    "                        Tt += w\n",
    "                    else Rd += w #si la direc es menor que cero se refleja.\n",
    "                 \n",
    "                    end\n",
    "                end\n",
    "        \n",
    "    # move\n",
    "            x += t * vx; \n",
    "            y += t * vy; \n",
    "            z += t * vz; \n",
    "            \n",
    "            \n",
    "            w -= dw; # al paquete de fotones se le quita el albedo (la porción de fotones reflejados)\n",
    "            vx,vy,vz=rotacion(g,vx,vy,vz)\n",
    "        \n",
    "        \n",
    "            if w < 0.001 # Para terminar la simulación vemos si ya quedan muy poquitos  #Russian Roulette \n",
    "            if rand() <.9\n",
    "                break; \n",
    "            end\n",
    "            w /= 0.1\n",
    "       end\n",
    "    end\n",
    "    end\n",
    "    Rd,Tt\n",
    "    end"
   ]
  },
  {
   "cell_type": "code",
   "execution_count": 52,
   "metadata": {
    "collapsed": false
   },
   "outputs": [
    {
     "data": {
      "text/plain": [
       "(0,746.7619047619025)"
      ]
     },
     "execution_count": 52,
     "metadata": {},
     "output_type": "execute_result"
    }
   ],
   "source": [
    "mc(1,20,0.75,100,0.1)"
   ]
  },
  {
   "cell_type": "markdown",
   "metadata": {},
   "source": [
    "Obtenemos más fotones transmitidos que reflejados. DE hecho no obtenemos ninguno reflejado. "
   ]
  },
  {
   "cell_type": "markdown",
   "metadata": {},
   "source": [
    "El código de la página: http://www.scratchapixel.com/lessons/mathematics-physics-for-computer-graphics/monte-carlo-methods-in-practice/monte-carlo-simulation"
   ]
  },
  {
   "cell_type": "markdown",
   "metadata": {
    "collapsed": true
   },
   "source": [
    "    double getCosTheta(const double &g) // sampling the H-G scattering phase function \n",
    "    { \n",
    "    if (g == 0) return 2 * drand48() - 1; \n",
    "    double mu = (1 - g * g) / (1 - g + 2 * g * drand48()); \n",
    "    return (1 + g * g - mu * mu) / (2.0 * g); \n",
    "        } \n",
    " \n",
    "    void spin(double &mu_x, double &mu_y, double &mu_z, const double &g) \n",
    "    { \n",
    "    double costheta = getCosTheta(g); \n",
    "    double phi = 2 * M_PI * drand48(); \n",
    "    double sintheta = sqrt(1.0 - costheta * costheta); // sin(theta) \n",
    "    double sinphi = sin(phi); \n",
    "    double cosphi = cos(phi); \n",
    "    if (mu_z == 1.0) { \n",
    "        mu_x = sintheta * cosphi; \n",
    "        mu_y = sintheta * sinphi; \n",
    "        mu_z = costheta; \n",
    "        } \n",
    "    else if (mu_z == -1.0) { \n",
    "        mu_x = sintheta * cosphi; \n",
    "        mu_y = -sintheta * sinphi; \n",
    "        mu_z = -costheta; \n",
    "        } \n",
    "    else { \n",
    "        double denom = sqrt(1.0 - mu_z * mu_z); \n",
    "        double muzcosphi = mu_z * cosphi; \n",
    "        double ux = sintheta * (mu_x * muzcosphi - mu_y * sinphi) / denom + mu_x * costheta; \n",
    "        double uy = sintheta * (mu_y * muzcosphi + mu_x * sinphi) / denom + mu_y * costheta; \n",
    "        double uz = -denom * sintheta * cosphi + mu_z * costheta; \n",
    "        mu_x = ux, mu_y = uy, mu_z = uz; \n",
    "        } \n",
    "    } \n",
    " \n",
    "    void MCSimulation() \n",
    "    { \n",
    "    // compute diffuse reflectance and transmittance\n",
    "    uint32_t nphotons = 100000; \n",
    "    double scale = 1.0 / nphotons; \n",
    "    double sigma_a = 1, sigma_s = 2, sigma_t = sigma_a + sigma_s; \n",
    "    double d = 0.1, g = 0.75; \n",
    "    static const short m = 10; \n",
    "    double Rd = 0, Tt = 0; \n",
    "    for (int n = 0; n < nphotons; ++n) { \n",
    "        double w = 1; \n",
    "        double x = 0, y = 0, z = 0, mux = 0, muy = 0, muz = 1; \n",
    "        while (1) { \n",
    "            double s = -log(drand48()) / sigma_t; \n",
    "            double distToBoundary = 0; \n",
    "            if (muz > 0) distToBoundary = (d - z) / muz; \n",
    "            else if (muz < 0) distToBoundary = -z / muz; \n",
    "            if (s > distToBoundary) { \n",
    "                if (muz > 0) Tt += w; else Rd += w; \n",
    "                break; \n",
    "            } \n",
    "            // move\n",
    "            x += s * mux; \n",
    "            y += s * muy; \n",
    "            z += s * muz; \n",
    "            // absorb\n",
    "            double dw = sigma_a / sigma_t; \n",
    "            w -= dw; w = std::min(0.0, w); \n",
    "            if (w < 0.001) { // russian roulette test \n",
    "                if (drand48() > 1.0 / m) break; \n",
    "                else w *= m; \n",
    "                } \n",
    "            // scatter\n",
    "            spin(mux, muy, muz, g); \n",
    "            } \n",
    "        } \n",
    "    printf(\"Rd %f Tt %f\\n\", Rd * scale, Tt * scale); \n",
    "    } "
   ]
  },
  {
   "cell_type": "markdown",
   "metadata": {
    "collapsed": true
   },
   "source": []
  }
 ],
 "metadata": {
  "kernelspec": {
   "display_name": "Julia 0.4.1",
   "language": "julia",
   "name": "julia-0.4"
  },
  "language_info": {
   "file_extension": ".jl",
   "mimetype": "application/julia",
   "name": "julia",
   "version": "0.4.1"
  }
 },
 "nbformat": 4,
 "nbformat_minor": 0
}
