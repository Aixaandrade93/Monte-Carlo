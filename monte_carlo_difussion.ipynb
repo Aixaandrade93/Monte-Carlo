{
 "cells": [
  {
   "cell_type": "code",
   "execution_count": 1,
   "metadata": {
    "collapsed": false
   },
   "outputs": [
    {
     "name": "stderr",
     "output_type": "stream",
     "text": [
      "INFO: Loading help data...\n"
     ]
    }
   ],
   "source": [
    "using PyPlot"
   ]
  },
  {
   "cell_type": "markdown",
   "metadata": {},
   "source": [
    "La traducción del código:"
   ]
  },
  {
   "cell_type": "code",
   "execution_count": 2,
   "metadata": {
    "collapsed": false
   },
   "outputs": [],
   "source": [
    "μ_a = 2;   #/* Absorption Coefficient in 1/cm !!non-zero!! */\n",
    "μ_s = 20;   #/* Reduced Scattering Coefficient in 1/cm */\n",
    "microns_per_shell = 50;  #/* Thickness of spherical shells in microns */\n",
    "photons = 10000;\n",
    "SHELL_MAX=102 #constante\n",
    "heat=zeros(SHELL_MAX+1); #arreglo de tamaño 101\n",
    "albedo = μ_s / (μ_s + μ_a); #porcentaje de radiación que la superficie refleja respecto de la radiación incidente.\n",
    "shells_per_mfp = 1e4/microns_per_shell/(μ_s + μ_a);\n",
    "t=0\n",
    "t1=0\n",
    "xi1=0\n",
    "xi2=0;"
   ]
  },
  {
   "cell_type": "code",
   "execution_count": 3,
   "metadata": {
    "collapsed": false
   },
   "outputs": [],
   "source": [
    "#sqrt(log(0)) sale Domain error"
   ]
  },
  {
   "cell_type": "markdown",
   "metadata": {},
   "source": [
    "La ley de Beer nos dice que $\\frac{dI}{dx}=-(\\mu_a+\\mu_s)I$, entonces $I(x)=I_0 e^{-(\\mu_a+\\mu_s)x}$, por lo tanto $(\\mu_a+\\mu_s)x=-ln \\frac{I}{I_0}$.\n",
    "\n",
    "A $\\mu_t=\\mu_a+\\mu_s$ se le llama el coeficiente de extinción.\n",
    "\n",
    "Tomamos $ \\frac{I}{I_0}=\\epsilon$ y $t=(\\mu_a+\\mu_s)x$, donde $\\epsilon$ es un número aletorio, entonces podemos muestrear la posición del fotón usando $t=-ln(\\epsilon)$. \n",
    "\n",
    "Albedo es el porcentaje de los fotones que son dispersados por la superficie respecto al porcentaje de fotones que puede ser dispersado o absorbido, entonces, $1-albedo$ es el porcentaje de los fotones que no son dipersados por las superficie, es decir el porcentaje de fotones que se quedaron en la posición $r$.\n",
    "   Finalmente expresamos $heat(r)$ como los fotones que se quedaron en la posición $r$, entonces $heat(r) = (1.0-albedo)*weight$ donde $weigth$ es el tamaño del paquete de fotones."
   ]
  },
  {
   "cell_type": "code",
   "execution_count": 4,
   "metadata": {
    "collapsed": false
   },
   "outputs": [],
   "source": [
    "for i in 1:photons\n",
    "    i+=1\n",
    "  x = 0.0; y = 0.0; z = 0.0; #/*launch*/  \n",
    "u = 0.0; v = 0.0; w = 1.0;\n",
    "weight = 1.0;\n",
    "    \n",
    "    while true #infinito \n",
    "        t = -log((rand()+.0000000001)); #/*move*/ #ϵ es el número aleatorio Distribución de probabilidad ϵ=e^-t #ley de beer #para que nunca se indefina,sqrt(log(0)) arroja Domain error\n",
    "    x += t * u; #se depeja t que es como una posición.\n",
    "    y += t * v;\n",
    "    z += t * w;  \n",
    "    shell=sqrt(x*x+y*y+z*z)*shells_per_mfp; #/*absorb*/\n",
    "        #println(\"$shell\"), shell da un montón de número aleatorios, no sé cómo al final llenan todos la matriz heat.\n",
    " \n",
    "        if shell > SHELL_MAX-1 #condiciones a la frontera periódicas\n",
    "            shell = SHELL_MAX-1\n",
    "        end\n",
    "        heat[int(shell+1)] = (1.0-albedo)*weight #cada vez  disminuye la intensidad del paquete de fotones\n",
    "      weight *= albedo\n",
    "        \n",
    "        \n",
    "    while xi1*xi1+xi2*xi2<=1 #/*new direction*/ infinito\n",
    "            xi1=2.0*rand()-1.0 #número aleatorio entre -1 y 1\n",
    "            xi2=2.0*rand()-1.0  \n",
    "               end\n",
    "        \n",
    "    u = 2.0 * t - 1.0;\n",
    "        v = xi1 * sqrt((abs(1-u*u))/t); #le agregué abs para que las raíces no se hicieran negativas \n",
    "        w = xi2 * sqrt(abs(1-u*u)/t);\n",
    "\n",
    "              if weight < 0.001    #/*roulette*/\n",
    "            if rand()<.9 #Antes decía: if (rand() > 0.1 * RAND_MAX) break; es una probabilidad de 90%,  RAND_MAX es al menos  32767, rand() genera un número aleatorio entre 0 y RAND_MAX\n",
    "                break \n",
    "            end\n",
    "            weight /= 0.1; # se rompe cuando quedan el 10% de fotones\n",
    "           end\n",
    "\n",
    "        \n",
    "        \n",
    "        \n",
    "        \n",
    "    end\n",
    "end\n",
    "    \n",
    "    \n",
    "    \n",
    "    "
   ]
  },
  {
   "cell_type": "markdown",
   "metadata": {},
   "source": [
    "El código nos devuelve la intensidad"
   ]
  },
  {
   "cell_type": "code",
   "execution_count": 5,
   "metadata": {
    "collapsed": false
   },
   "outputs": [],
   "source": [
    "heat[end-1]=heat[end-2];# corregimos un numerito raro;"
   ]
  },
  {
   "cell_type": "code",
   "execution_count": 6,
   "metadata": {
    "collapsed": true
   },
   "outputs": [],
   "source": [
    "for i in 1:length(heat)  #tenemos algo lineal, lo hace caer como 1/t\n",
    "  heat[i]=heat[i]/t/(i*i+i+1.0/3.0)\n",
    "end"
   ]
  },
  {
   "cell_type": "markdown",
   "metadata": {},
   "source": [
    "Aquí hace $heat(r)=\\frac{heat(r) *(\\  r^2 +r+\\frac{1}{3})}{t}$, donde $t=-log(\\epsilon)$, con $\\epsilon$ número aleatorio."
   ]
  },
  {
   "cell_type": "code",
   "execution_count": 7,
   "metadata": {
    "collapsed": false
   },
   "outputs": [],
   "source": [
    "heat;"
   ]
  },
  {
   "cell_type": "code",
   "execution_count": 8,
   "metadata": {
    "collapsed": false
   },
   "outputs": [],
   "source": [
    "radio=[.1:microns_per_shell:5150]; # empezamos desde .1 para que al graficar la solución a la ecuación de difusión en función del radio no tengamos un 1/0\n",
    "\n",
    "r=radio*1e-4; #radio en cm;"
   ]
  },
  {
   "cell_type": "markdown",
   "metadata": {},
   "source": [
    "Podemos ver que la gráfica es exponencial, pero no tiene las dimensiones de tiny."
   ]
  },
  {
   "cell_type": "markdown",
   "metadata": {},
   "source": [
    "Ahora graficamos la solución de la ecuación de difusión de acuerdo a la siguiente relación:\n",
    "$$Heat(r)=\\frac{3}{4 \\pi r} \\mu_a \\mu_t p_0 e^{-\\sqrt{3 \\mu_a \\mu_t} r}$$\n",
    "$$\\mu_t=\\mu_a+\\mu_s$$"
   ]
  },
  {
   "cell_type": "code",
   "execution_count": 9,
   "metadata": {
    "collapsed": false
   },
   "outputs": [
    {
     "data": {
      "text/plain": [
       "diffusion (generic function with 1 method)"
      ]
     },
     "execution_count": 9,
     "metadata": {},
     "output_type": "execute_result"
    }
   ],
   "source": [
    "#μa absortion coefficent\n",
    "#μs reduced scattering coefficent\n",
    "#μt coefficiente total de atenuación\n",
    "function diffusion(μa,μs,r,p_0)\n",
    "    μt=μa+μs\n",
    "    kd=sqrt(3*μa*μt)\n",
    "    n=length(r)\n",
    "    heat=zeros(n)\n",
    "    for i in 1:n \n",
    "        heat[i]=(μa*μt*3*p_0*exp(-r[i]*sqrt(3*μa*μt)))/(π*4*r[i])\n",
    "    \n",
    "end\n",
    "    heat\n",
    "end\n",
    "    "
   ]
  },
  {
   "cell_type": "code",
   "execution_count": 10,
   "metadata": {
    "collapsed": false
   },
   "outputs": [],
   "source": [
    "#se utilizó p_0=1e-5, el calor estaba en micras\n",
    "x=diffusion(μ_a,μ_s,r,1e-5);\n"
   ]
  },
  {
   "cell_type": "code",
   "execution_count": 11,
   "metadata": {
    "collapsed": false
   },
   "outputs": [],
   "source": [
    "heat;"
   ]
  },
  {
   "cell_type": "code",
   "execution_count": 12,
   "metadata": {
    "collapsed": false
   },
   "outputs": [
    {
     "data": {
      "image/png": "[encoded data removed]",
      "text/plain": [
       "Figure(PyObject <matplotlib.figure.Figure object at 0x7f91377ea650>)"
      ]
     },
     "metadata": {},
     "output_type": "display_data"
    }
   ],
   "source": [
    "semilogy(r,heat,label=L\"$Monte Carlo$\")\n",
    "semilogy(r,x,\"bo\",label=L\"$diffusion$\")\n",
    "\n",
    "legend();\n",
    "    "
   ]
  },
  {
   "cell_type": "markdown",
   "metadata": {},
   "source": [
    "Las soluciones de Monte Carlo y la ecuación de difusión se aproxima un montón!"
   ]
  },
  {
   "cell_type": "markdown",
   "metadata": {},
   "source": [
    "# El código original:"
   ]
  },
  {
   "cell_type": "markdown",
   "metadata": {
    "collapsed": false
   },
   "source": [
    "\n",
    "     double mu_a = 2;\t\t\t   #Absorption Coefficient in 1/cm !!non-zero!! \n",
    "    double mu_s = 20;\t\t\t   # Reduced Scattering Coefficient in 1/cm \n",
    "    double microns_per_shell = 50; # Thickness of spherical shells in microns \n",
    "    long   i, shell, photons = 10000;\n",
    "    double x, y, z, u, v, w, weight;\n",
    "    double albedo, shells_per_mfp, xi1, xi2, t, heat[SHELL_MAX];\n",
    "\n",
    "int main () \n",
    "{\n",
    "\talbedo = mu_s / (mu_s + mu_a);\n",
    "\tshells_per_mfp = 1e4/microns_per_shell/(mu_a+mu_s);\n",
    "\t\n",
    "\tfor (i = 1; i <= photons; i++)\n",
    "\t{\n",
    "\t\tx = 0.0; y = 0.0; z = 0.0;\t\t\t\t\t/*launch*/  \n",
    "\t\tu = 0.0; v = 0.0; w = 1.0;\t\t\n",
    "\t\tweight = 1.0;\n",
    "\t\t\n",
    "\t\tfor (;;) { \n",
    "            t = -log((rand()+1.0)/(RAND_MAX+1.0));\t/*move*/#ϵ es el número aleatorio Distribución de probabilidad ϵ=e^-t, se depeja t que es como una posición. \n",
    "\t\t\tx += t * u;\n",
    "\t\t\ty += t * v;\n",
    "\t\t\tz += t * w;  \n",
    "\n",
    "\t\t\tshell=sqrt(x*x+y*y+z*z)*shells_per_mfp;\t/*absorb*/\n",
    "\t\t\tif (shell > SHELL_MAX-1) shell = SHELL_MAX-1;\t\n",
    "\t\t\theat[shell] += (1.0-albedo)*weight;\n",
    "\t\t\tweight *= albedo;\n",
    "\t\t\n",
    "\t\t\tfor(;;) {\t\t\t\t\t\t\t\t/*new direction*/\n",
    "\t\t\t\txi1=2.0*rand()/RAND_MAX - 1.0; \n",
    "\t\t\t\txi2=2.0*rand()/RAND_MAX - 1.0; \n",
    "\t\t\t\tif ((t=xi1*xi1+xi2*xi2)<=1) break;\n",
    "\t\t\t}\n",
    "\t\t\tu = 2.0 * t - 1.0;\n",
    "\t\t\tv = xi1 * sqrt((1-u*u)/t);\n",
    "\t\t\tw = xi2 * sqrt((1-u*u)/t);\n",
    "\t\t\t\n",
    "\t\t\tif (weight < 0.001){ \t\t\t\t\t/*roulette*/\n",
    "\t\t\t\tif (rand() > 0.1 * RAND_MAX) break; \n",
    "\t\t\t\tweight /= 0.1;\n",
    "\t\t\t}\n",
    "\t\t} \n",
    "\t}\t\n",
    "\t\n",
    "\tprintf(\"%s\\n%s\\n\\nScattering = %8.3f/cm\\nAbsorption = %8.3f/cm\\n\",t1,t2,mu_s,mu_a);\n",
    "\tprintf(\"Photons    = %8ld\\n\\n Radius         Heat\\n[microns]     [W/cm^3]\\n\",photons);\n",
    "\tt = 4*3.14159*pow(microns_per_shell,3)*photons/1e12;\n",
    "\tfor (i=0;i<SHELL_MAX-1;i++)\n",
    "    printf(\"%6.0f    %12.5f\\n\",i*microns_per_shell, heat[i]/t/(i*i+i+1.0/3.0)); # la trayectoria es lineal porque t, el código nos devuleve \n",
    "\tprintf(\" extra    %12.5f\\n\",heat[SHELL_MAX-1]/photons);\n",
    "\treturn 0\n"
   ]
  },
  {
   "cell_type": "markdown",
   "metadata": {},
   "source": [
    "http://omlc.org/software/mc/"
   ]
  },
  {
   "cell_type": "code",
   "execution_count": null,
   "metadata": {
    "collapsed": true
   },
   "outputs": [],
   "source": []
  },
  {
   "cell_type": "code",
   "execution_count": null,
   "metadata": {
    "collapsed": true
   },
   "outputs": [],
   "source": []
  }
 ],
 "metadata": {
  "kernelspec": {
   "display_name": "Julia 0.3.11",
   "language": "julia",
   "name": "julia-0.3"
  },
  "language_info": {
   "file_extension": ".jl",
   "mimetype": "application/julia",
   "name": "julia",
   "version": "0.4.1"
  }
 },
 "nbformat": 4,
 "nbformat_minor": 0
}
